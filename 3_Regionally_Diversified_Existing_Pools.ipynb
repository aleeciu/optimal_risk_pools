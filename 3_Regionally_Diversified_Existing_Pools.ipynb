{
 "cells": [
  {
   "cell_type": "code",
   "execution_count": 13,
   "id": "4eff1dfe",
   "metadata": {},
   "outputs": [],
   "source": [
    "import pandas as pd\n",
    "import numpy as np\n",
    "import matplotlib.pyplot as plt\n",
    "\n",
    "from pymoo.optimize import minimize\n",
    "from pymoo.core.problem import ElementwiseProblem\n",
    "\n",
    "from pymoo.factory import get_crossover, get_mutation, get_sampling\n",
    "from pymoo.algorithms.soo.nonconvex.ga import GA\n",
    "\n",
    "from pooling_functions import calc_pool_conc, calc_pools_conc, MinConcsProblem, MinNumCntrProblem"
   ]
  },
  {
   "cell_type": "code",
   "execution_count": 3,
   "id": "43bbd9f1",
   "metadata": {},
   "outputs": [],
   "source": [
    "criff_isos = ['BLZ', 'PAN', 'NIC', 'GTM', 'AIA', 'ATG', 'ABW', 'BHS', 'BRB', 'BMU', \n",
    "              'VGB', 'CYM', 'DMA', 'HTI', 'JAM', 'MSR', 'KNA', 'LCA', 'VCT', 'SXM', 'TTO', 'TCA']\n",
    "\n",
    "pcrafi_isos = ['FJI', 'FSM', 'COK', 'KIR', 'MHL', 'NIU', 'PLW', 'PNG', 'WSM', \n",
    "               'SLB', 'TLS', 'TON', 'TUV', 'VUT']\n",
    "\n",
    "ex_pools = [pcrafi_isos] + [criff_isos]"
   ]
  },
  {
   "cell_type": "markdown",
   "id": "naked-jacob",
   "metadata": {},
   "source": [
    "Load data:"
   ]
  },
  {
   "cell_type": "code",
   "execution_count": 5,
   "id": "a7c7bcf6",
   "metadata": {},
   "outputs": [
    {
     "data": {
      "text/html": [
       "<div>\n",
       "<style scoped>\n",
       "    .dataframe tbody tr th:only-of-type {\n",
       "        vertical-align: middle;\n",
       "    }\n",
       "\n",
       "    .dataframe tbody tr th {\n",
       "        vertical-align: top;\n",
       "    }\n",
       "\n",
       "    .dataframe thead th {\n",
       "        text-align: right;\n",
       "    }\n",
       "</style>\n",
       "<table border=\"1\" class=\"dataframe\">\n",
       "  <thead>\n",
       "    <tr style=\"text-align: right;\">\n",
       "      <th></th>\n",
       "      <th>ASM</th>\n",
       "      <th>KHM</th>\n",
       "      <th>COK</th>\n",
       "      <th>FJI</th>\n",
       "      <th>PYF</th>\n",
       "      <th>IDN</th>\n",
       "      <th>KIR</th>\n",
       "      <th>LAO</th>\n",
       "      <th>MYS</th>\n",
       "      <th>MHL</th>\n",
       "      <th>...</th>\n",
       "      <th>MWI</th>\n",
       "      <th>MUS</th>\n",
       "      <th>MOZ</th>\n",
       "      <th>SOM</th>\n",
       "      <th>TZA</th>\n",
       "      <th>ZMB</th>\n",
       "      <th>ZWE</th>\n",
       "      <th>BWA</th>\n",
       "      <th>ZAF</th>\n",
       "      <th>SWZ</th>\n",
       "    </tr>\n",
       "  </thead>\n",
       "  <tbody>\n",
       "    <tr>\n",
       "      <th>0</th>\n",
       "      <td>0.000000e+00</td>\n",
       "      <td>1.174686e+05</td>\n",
       "      <td>61567.633482</td>\n",
       "      <td>0.000000</td>\n",
       "      <td>2066.621255</td>\n",
       "      <td>4.932370e+09</td>\n",
       "      <td>0.0</td>\n",
       "      <td>1.468178e+05</td>\n",
       "      <td>1.363927e+10</td>\n",
       "      <td>0.000000</td>\n",
       "      <td>...</td>\n",
       "      <td>0.0</td>\n",
       "      <td>4.132596e+08</td>\n",
       "      <td>1.240871e+07</td>\n",
       "      <td>1.518563e+07</td>\n",
       "      <td>8.905124e+09</td>\n",
       "      <td>0.0</td>\n",
       "      <td>0.0</td>\n",
       "      <td>0.0</td>\n",
       "      <td>1.297125e+06</td>\n",
       "      <td>0.0</td>\n",
       "    </tr>\n",
       "    <tr>\n",
       "      <th>1</th>\n",
       "      <td>0.000000e+00</td>\n",
       "      <td>2.135547e+07</td>\n",
       "      <td>0.000000</td>\n",
       "      <td>0.000000</td>\n",
       "      <td>1817.411519</td>\n",
       "      <td>0.000000e+00</td>\n",
       "      <td>0.0</td>\n",
       "      <td>2.456694e+06</td>\n",
       "      <td>5.648761e+06</td>\n",
       "      <td>81.644624</td>\n",
       "      <td>...</td>\n",
       "      <td>0.0</td>\n",
       "      <td>3.394774e+05</td>\n",
       "      <td>1.486315e+08</td>\n",
       "      <td>0.000000e+00</td>\n",
       "      <td>7.669974e+06</td>\n",
       "      <td>0.0</td>\n",
       "      <td>0.0</td>\n",
       "      <td>0.0</td>\n",
       "      <td>0.000000e+00</td>\n",
       "      <td>0.0</td>\n",
       "    </tr>\n",
       "    <tr>\n",
       "      <th>2</th>\n",
       "      <td>2.615973e+07</td>\n",
       "      <td>6.706448e+08</td>\n",
       "      <td>2374.730234</td>\n",
       "      <td>0.000000</td>\n",
       "      <td>42.486543</td>\n",
       "      <td>6.417800e+07</td>\n",
       "      <td>0.0</td>\n",
       "      <td>0.000000e+00</td>\n",
       "      <td>3.386322e+05</td>\n",
       "      <td>0.000000</td>\n",
       "      <td>...</td>\n",
       "      <td>0.0</td>\n",
       "      <td>6.093447e+07</td>\n",
       "      <td>1.342145e+07</td>\n",
       "      <td>0.000000e+00</td>\n",
       "      <td>0.000000e+00</td>\n",
       "      <td>0.0</td>\n",
       "      <td>0.0</td>\n",
       "      <td>0.0</td>\n",
       "      <td>0.000000e+00</td>\n",
       "      <td>0.0</td>\n",
       "    </tr>\n",
       "    <tr>\n",
       "      <th>3</th>\n",
       "      <td>6.236010e+07</td>\n",
       "      <td>3.473528e+07</td>\n",
       "      <td>702363.195433</td>\n",
       "      <td>4825.253640</td>\n",
       "      <td>0.000000</td>\n",
       "      <td>0.000000e+00</td>\n",
       "      <td>0.0</td>\n",
       "      <td>0.000000e+00</td>\n",
       "      <td>2.667397e+09</td>\n",
       "      <td>0.000000</td>\n",
       "      <td>...</td>\n",
       "      <td>0.0</td>\n",
       "      <td>1.005025e+05</td>\n",
       "      <td>1.356082e+04</td>\n",
       "      <td>8.197128e+05</td>\n",
       "      <td>0.000000e+00</td>\n",
       "      <td>0.0</td>\n",
       "      <td>0.0</td>\n",
       "      <td>0.0</td>\n",
       "      <td>0.000000e+00</td>\n",
       "      <td>0.0</td>\n",
       "    </tr>\n",
       "    <tr>\n",
       "      <th>4</th>\n",
       "      <td>0.000000e+00</td>\n",
       "      <td>2.488902e+07</td>\n",
       "      <td>0.000000</td>\n",
       "      <td>158.037936</td>\n",
       "      <td>0.000000</td>\n",
       "      <td>3.155947e+09</td>\n",
       "      <td>0.0</td>\n",
       "      <td>0.000000e+00</td>\n",
       "      <td>0.000000e+00</td>\n",
       "      <td>0.000000</td>\n",
       "      <td>...</td>\n",
       "      <td>0.0</td>\n",
       "      <td>5.339540e+05</td>\n",
       "      <td>0.000000e+00</td>\n",
       "      <td>0.000000e+00</td>\n",
       "      <td>0.000000e+00</td>\n",
       "      <td>0.0</td>\n",
       "      <td>0.0</td>\n",
       "      <td>0.0</td>\n",
       "      <td>0.000000e+00</td>\n",
       "      <td>0.0</td>\n",
       "    </tr>\n",
       "  </tbody>\n",
       "</table>\n",
       "<p>5 rows × 87 columns</p>\n",
       "</div>"
      ],
      "text/plain": [
       "            ASM           KHM            COK          FJI          PYF  \\\n",
       "0  0.000000e+00  1.174686e+05   61567.633482     0.000000  2066.621255   \n",
       "1  0.000000e+00  2.135547e+07       0.000000     0.000000  1817.411519   \n",
       "2  2.615973e+07  6.706448e+08    2374.730234     0.000000    42.486543   \n",
       "3  6.236010e+07  3.473528e+07  702363.195433  4825.253640     0.000000   \n",
       "4  0.000000e+00  2.488902e+07       0.000000   158.037936     0.000000   \n",
       "\n",
       "            IDN  KIR           LAO           MYS        MHL  ...  MWI  \\\n",
       "0  4.932370e+09  0.0  1.468178e+05  1.363927e+10   0.000000  ...  0.0   \n",
       "1  0.000000e+00  0.0  2.456694e+06  5.648761e+06  81.644624  ...  0.0   \n",
       "2  6.417800e+07  0.0  0.000000e+00  3.386322e+05   0.000000  ...  0.0   \n",
       "3  0.000000e+00  0.0  0.000000e+00  2.667397e+09   0.000000  ...  0.0   \n",
       "4  3.155947e+09  0.0  0.000000e+00  0.000000e+00   0.000000  ...  0.0   \n",
       "\n",
       "            MUS           MOZ           SOM           TZA  ZMB  ZWE  BWA  \\\n",
       "0  4.132596e+08  1.240871e+07  1.518563e+07  8.905124e+09  0.0  0.0  0.0   \n",
       "1  3.394774e+05  1.486315e+08  0.000000e+00  7.669974e+06  0.0  0.0  0.0   \n",
       "2  6.093447e+07  1.342145e+07  0.000000e+00  0.000000e+00  0.0  0.0  0.0   \n",
       "3  1.005025e+05  1.356082e+04  8.197128e+05  0.000000e+00  0.0  0.0  0.0   \n",
       "4  5.339540e+05  0.000000e+00  0.000000e+00  0.000000e+00  0.0  0.0  0.0   \n",
       "\n",
       "            ZAF  SWZ  \n",
       "0  1.297125e+06  0.0  \n",
       "1  0.000000e+00  0.0  \n",
       "2  0.000000e+00  0.0  \n",
       "3  0.000000e+00  0.0  \n",
       "4  0.000000e+00  0.0  \n",
       "\n",
       "[5 rows x 87 columns]"
      ]
     },
     "execution_count": 5,
     "metadata": {},
     "output_type": "execute_result"
    }
   ],
   "source": [
    "datay = pd.read_csv('data/yearly_damages.csv', index_col=0)\n",
    "datay.head()"
   ]
  },
  {
   "cell_type": "markdown",
   "id": "3b4c3ddf",
   "metadata": {},
   "source": [
    "Define alpha:"
   ]
  },
  {
   "cell_type": "code",
   "execution_count": 6,
   "id": "b47036f9",
   "metadata": {},
   "outputs": [
    {
     "data": {
      "text/plain": [
       "0.995"
      ]
     },
     "execution_count": 6,
     "metadata": {},
     "output_type": "execute_result"
    }
   ],
   "source": [
    "RT = 200\n",
    "\n",
    "alpha = 1-1/RT\n",
    "alpha"
   ]
  },
  {
   "cell_type": "markdown",
   "id": "1160178c",
   "metadata": {},
   "source": [
    "Load damages by region:"
   ]
  },
  {
   "cell_type": "code",
   "execution_count": 7,
   "id": "5583c4bb",
   "metadata": {},
   "outputs": [],
   "source": [
    "reg_names = ['EAP', 'CAC', 'SA', 'SEA']\n",
    "\n",
    "regs_datay = {}\n",
    "bools_regs_datay = {}\n",
    "i = 0\n",
    "\n",
    "for reg_name in reg_names[:2]:\n",
    "    regs = np.loadtxt('data/preprocessing/{}.txt'.format(reg_name), dtype=str)\n",
    "    \n",
    "    reg_datay = datay[regs.tolist()]\n",
    "    new_cols_ord = ex_pools[i] + [col for col in reg_datay.columns.values if not col in ex_pools[i]]\n",
    "\n",
    "    regs_datay.update({reg_name: reg_datay[new_cols_ord]})\n",
    "    bools_regs_datay.update({reg_name: reg_datay[new_cols_ord].values >= np.nanquantile(reg_datay[new_cols_ord].values, \n",
    "                            alpha, axis=0)})\n",
    "\n",
    "    i += 1"
   ]
  },
  {
   "cell_type": "markdown",
   "id": "8e26eb8f",
   "metadata": {},
   "source": [
    "Current diversification of PCRAFI:"
   ]
  },
  {
   "cell_type": "code",
   "execution_count": 8,
   "id": "cd8b57c0",
   "metadata": {},
   "outputs": [
    {
     "data": {
      "text/plain": [
       "array([[0.49]])"
      ]
     },
     "execution_count": 8,
     "metadata": {},
     "output_type": "execute_result"
    }
   ],
   "source": [
    "bools = datay[pcrafi_isos].values >= np.nanquantile(datay[pcrafi_isos].values, alpha, axis=0)\n",
    "1-calc_pools_conc(np.repeat(1, len(pcrafi_isos)), datay[pcrafi_isos].values, bools, alpha, 1)"
   ]
  },
  {
   "cell_type": "markdown",
   "id": "8e26eb8f",
   "metadata": {},
   "source": [
    "Current diversification of CCRIF:"
   ]
  },
  {
   "cell_type": "code",
   "execution_count": 9,
   "id": "cd8b57c0",
   "metadata": {},
   "outputs": [
    {
     "data": {
      "text/plain": [
       "array([[0.48]])"
      ]
     },
     "execution_count": 9,
     "metadata": {},
     "output_type": "execute_result"
    }
   ],
   "source": [
    "bools = datay[criff_isos].values >= np.nanquantile(datay[criff_isos].values, alpha, axis=0)\n",
    "1-calc_pools_conc(np.repeat(1, len(criff_isos)), datay[criff_isos].values, bools, alpha, 1)"
   ]
  },
  {
   "cell_type": "code",
   "execution_count": 10,
   "id": "4a0925ed",
   "metadata": {},
   "outputs": [],
   "source": [
    "x_pool_int_criff = np.ones(len(criff_isos))\n",
    "x_pool_int_pcrafi = np.ones(len(pcrafi_isos))\n",
    "\n",
    "x_fixed_pools = [x_pool_int_pcrafi, x_pool_int_criff]"
   ]
  },
  {
   "cell_type": "code",
   "execution_count": 34,
   "id": "f1f0ba33",
   "metadata": {},
   "outputs": [
    {
     "name": "stdout",
     "output_type": "stream",
     "text": [
      "FIND OPTIMAL REGIONAL EXTENSION FOR PCRAFI\n",
      "Step 1 - Extended pool with the minimum concentration\n",
      "Step 2 - Smallest set of countries within this pool maintaining min conc\n",
      "\n",
      "FIND OPTIMAL REGIONAL EXTENSION FOR CRIFF\n",
      "Step 1 - Extended pool with the minimum concentration\n",
      "Step 2 - Smallest set of countries within this pool maintaining min conc\n",
      "\n"
     ]
    }
   ],
   "source": [
    "i = 0\n",
    "ex_pools_names = ['PCRAFI', 'CRIFF']\n",
    "\n",
    "for reg in reg_names[:2]:\n",
    "\n",
    "    print(\"FIND OPTIMAL REGIONAL EXTENSION FOR {}\".format(ex_pools_names[i]))\n",
    "    print(\"Step 1 - Extended pool with the minimum concentration\")\n",
    "\n",
    "    num_cntries_to_explore = regs_datay[reg].shape[1]-x_fixed_pools[i].shape[0]\n",
    "\n",
    "    problem = MinConcsProblem(num_cntries_to_explore, regs_datay[reg], \n",
    "                                bools_regs_datay[reg], alpha, \n",
    "                                calc_pools_conc, 1, x_fixed_pools[i])\n",
    "\n",
    "    algorithm = GA(pop_size=reg_datay.shape[1],\n",
    "                   sampling=get_sampling(\"bin_random\"),\n",
    "                   crossover=get_crossover(\"bin_hux\"),\n",
    "                   mutation=get_mutation(\"bin_bitflip\"),\n",
    "                   eliminate_duplicates=True)\n",
    "\n",
    "    res_reg = minimize(problem,\n",
    "               algorithm,\n",
    "               ('n_gen', 750),\n",
    "               verbose=False,\n",
    "               save_history=True,\n",
    "               seed=1)\n",
    "\n",
    "    print(\"Step 2 - Smallest set of countries within this pool maintaining min conc\\n\")\n",
    "\n",
    "    X_ex_pool = res_reg.X.astype(int)\n",
    "    X = np.hstack([x_fixed_pools[i], X_ex_pool])\n",
    "\n",
    "    reg_datay_opt = regs_datay[reg][regs_datay[reg].columns[X > 0]]\n",
    "    bools_opt = reg_datay_opt >= np.quantile(reg_datay_opt, alpha, axis=0)\n",
    "\n",
    "    problem = MinNumCntrProblem(reg_datay_opt, bools_opt.values, alpha, calc_pool_conc, res_reg.F[0])\n",
    "\n",
    "    algorithm = GA(pop_size=reg_datay_opt.shape[1],\n",
    "    sampling=get_sampling(\"bin_random\"),\n",
    "    crossover=get_crossover(\"bin_hux\"),\n",
    "    mutation=get_mutation(\"bin_bitflip\"),\n",
    "    eliminate_duplicates=True)\n",
    "\n",
    "    res_reg2 = minimize(problem,\n",
    "                         algorithm,\n",
    "                         ('n_gen', 750),\n",
    "                         verbose=False,\n",
    "                         save_history=True,\n",
    "                         pf=np.array(0.0))\n",
    "\n",
    "    i+=1"
   ]
  }
 ],
 "metadata": {
  "interpreter": {
   "hash": "3aca3c628c97e81b205090329ad0a7b5843de12fee5fd7de2a2696721c93c40e"
  },
  "kernelspec": {
   "display_name": "Python 3.9.7 ('pymoo_env')",
   "language": "python",
   "name": "python3"
  },
  "language_info": {
   "codemirror_mode": {
    "name": "ipython",
    "version": 3
   },
   "file_extension": ".py",
   "mimetype": "text/x-python",
   "name": "python",
   "nbconvert_exporter": "python",
   "pygments_lexer": "ipython3",
   "version": "3.9.7"
  }
 },
 "nbformat": 4,
 "nbformat_minor": 5
}
